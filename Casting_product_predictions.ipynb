{
  "nbformat": 4,
  "nbformat_minor": 0,
  "metadata": {
    "colab": {
      "name": "Casting -product-predictions.ipynb",
      "provenance": [],
      "mount_file_id": "1mQhChrFCzyQmzbojxgAms7HqF5WvixYv",
      "authorship_tag": "ABX9TyPPp8dLyQjmzMDspidlBHbM",
      "include_colab_link": true
    },
    "kernelspec": {
      "name": "python3",
      "display_name": "Python 3"
    },
    "accelerator": "GPU"
  },
  "cells": [
    {
      "cell_type": "markdown",
      "metadata": {
        "id": "view-in-github",
        "colab_type": "text"
      },
      "source": [
        "<a href=\"https://colab.research.google.com/github/ajayd0106/Casting-product-Prediction/blob/master/Casting_product_predictions.ipynb\" target=\"_parent\"><img src=\"https://colab.research.google.com/assets/colab-badge.svg\" alt=\"Open In Colab\"/></a>"
      ]
    },
    {
      "cell_type": "code",
      "metadata": {
        "id": "qSPbDVnX39iS",
        "colab_type": "code",
        "colab": {
          "base_uri": "https://localhost:8080/",
          "height": 70
        },
        "outputId": "b647b316-cda4-4c14-b00a-353fd59cf8b4"
      },
      "source": [
        "# Data Analysis\n",
        "import pandas as pd\n",
        "import numpy as np\n",
        "\n",
        "# Visualization\n",
        "import matplotlib.pyplot as plt\n",
        "import seaborn as sns\n",
        "sns.set()\n",
        "\n",
        "# Neural Network Model\n",
        "from keras.preprocessing.image import ImageDataGenerator\n",
        "from keras.models import Sequential, load_model\n",
        "from keras.layers import *\n",
        "from keras.callbacks import ModelCheckpoint\n",
        "\n",
        "# Evaluation\n",
        "from sklearn.metrics import confusion_matrix, classification_report"
      ],
      "execution_count": null,
      "outputs": [
        {
          "output_type": "stream",
          "text": [
            "/usr/local/lib/python3.6/dist-packages/statsmodels/tools/_testing.py:19: FutureWarning: pandas.util.testing is deprecated. Use the functions in the public API at pandas.testing instead.\n",
            "  import pandas.util.testing as tm\n"
          ],
          "name": "stderr"
        }
      ]
    },
    {
      "cell_type": "code",
      "metadata": {
        "id": "C1cbPMNR4FDS",
        "colab_type": "code",
        "colab": {}
      },
      "source": [
        "train_generator = ImageDataGenerator(rotation_range = 360,\n",
        "                                     width_shift_range = 0.05,\n",
        "                                     height_shift_range = 0.05,\n",
        "                                     shear_range = 0.05,\n",
        "                                     zoom_range = 0.05,\n",
        "                                     horizontal_flip = True,\n",
        "                                     vertical_flip = True,\n",
        "                                     brightness_range = [0.75, 1.25],\n",
        "                                     rescale = 1./255,\n",
        "                                     validation_split = 0.2)"
      ],
      "execution_count": null,
      "outputs": []
    },
    {
      "cell_type": "code",
      "metadata": {
        "id": "qRxfZHRx6ABh",
        "colab_type": "code",
        "colab": {
          "base_uri": "https://localhost:8080/",
          "height": 50
        },
        "outputId": "d649bbb5-6909-49a5-bc28-facc5a4bdd26"
      },
      "source": [
        "IMAGE_DIR = \"/content/drive/My Drive/Colab Notebooks/Casting prediction/Casting-data/casting_data/\"\n",
        "IMAGE_SIZE = (300,300)\n",
        "BATCH_SIZE = 64\n",
        "SEED_NUMBER = 123\n",
        "\n",
        "gen_args = dict(target_size = IMAGE_SIZE,\n",
        "                color_mode = \"grayscale\",\n",
        "                batch_size = BATCH_SIZE,\n",
        "                class_mode = \"binary\",\n",
        "                classes = {\"ok_front\": 0, \"def_front\": 1},\n",
        "                shuffle = True,\n",
        "                seed = SEED_NUMBER)\n",
        "\n",
        "train_dataset = train_generator.flow_from_directory(directory = IMAGE_DIR + \"train\",\n",
        "                                                    subset = \"training\", **gen_args)\n",
        "validation_dataset = train_generator.flow_from_directory(directory = IMAGE_DIR + \"train\",\n",
        "                                                         subset = \"validation\", **gen_args)"
      ],
      "execution_count": null,
      "outputs": [
        {
          "output_type": "stream",
          "text": [
            "Found 5307 images belonging to 2 classes.\n",
            "Found 1326 images belonging to 2 classes.\n"
          ],
          "name": "stdout"
        }
      ]
    },
    {
      "cell_type": "code",
      "metadata": {
        "id": "_kDGhvKm7YzW",
        "colab_type": "code",
        "colab": {
          "base_uri": "https://localhost:8080/",
          "height": 34
        },
        "outputId": "90d69e3e-a2c0-471f-8b30-16caea355328"
      },
      "source": [
        "test_generator = ImageDataGenerator(rescale = 1./255)\n",
        "test_dataset = test_generator.flow_from_directory(directory = IMAGE_DIR + \"test\",\n",
        "                                                  **gen_args)"
      ],
      "execution_count": null,
      "outputs": [
        {
          "output_type": "stream",
          "text": [
            "Found 378 images belonging to 2 classes.\n"
          ],
          "name": "stdout"
        }
      ]
    },
    {
      "cell_type": "code",
      "metadata": {
        "id": "OWa4NOev7puE",
        "colab_type": "code",
        "colab": {
          "base_uri": "https://localhost:8080/",
          "height": 195
        },
        "outputId": "dbdd47c1-3068-4156-9396-63d3aba1f802"
      },
      "source": [
        "image_data = [{\"data\": typ,\n",
        "               \"class\": name.split('/')[0],\n",
        "               \"filename\": name.split('/')[1]}\n",
        "              for dataset, typ in zip([train_dataset, validation_dataset, test_dataset], [\"train\", \"validation\", \"test\"])\n",
        "              for name in dataset.filenames]\n",
        "image_df = pd.DataFrame(image_data)\n",
        "data_crosstab = pd.crosstab(index = image_df[\"data\"],\n",
        "                            columns = image_df[\"class\"],\n",
        "                            margins = True,\n",
        "                            margins_name = \"Total\")\n",
        "data_crosstab"
      ],
      "execution_count": null,
      "outputs": [
        {
          "output_type": "execute_result",
          "data": {
            "text/html": [
              "<div>\n",
              "<style scoped>\n",
              "    .dataframe tbody tr th:only-of-type {\n",
              "        vertical-align: middle;\n",
              "    }\n",
              "\n",
              "    .dataframe tbody tr th {\n",
              "        vertical-align: top;\n",
              "    }\n",
              "\n",
              "    .dataframe thead th {\n",
              "        text-align: right;\n",
              "    }\n",
              "</style>\n",
              "<table border=\"1\" class=\"dataframe\">\n",
              "  <thead>\n",
              "    <tr style=\"text-align: right;\">\n",
              "      <th>class</th>\n",
              "      <th>def_front</th>\n",
              "      <th>ok_front</th>\n",
              "      <th>Total</th>\n",
              "    </tr>\n",
              "    <tr>\n",
              "      <th>data</th>\n",
              "      <th></th>\n",
              "      <th></th>\n",
              "      <th></th>\n",
              "    </tr>\n",
              "  </thead>\n",
              "  <tbody>\n",
              "    <tr>\n",
              "      <th>test</th>\n",
              "      <td>106</td>\n",
              "      <td>272</td>\n",
              "      <td>378</td>\n",
              "    </tr>\n",
              "    <tr>\n",
              "      <th>train</th>\n",
              "      <td>3007</td>\n",
              "      <td>2300</td>\n",
              "      <td>5307</td>\n",
              "    </tr>\n",
              "    <tr>\n",
              "      <th>validation</th>\n",
              "      <td>751</td>\n",
              "      <td>575</td>\n",
              "      <td>1326</td>\n",
              "    </tr>\n",
              "    <tr>\n",
              "      <th>Total</th>\n",
              "      <td>3864</td>\n",
              "      <td>3147</td>\n",
              "      <td>7011</td>\n",
              "    </tr>\n",
              "  </tbody>\n",
              "</table>\n",
              "</div>"
            ],
            "text/plain": [
              "class       def_front  ok_front  Total\n",
              "data                                  \n",
              "test              106       272    378\n",
              "train            3007      2300   5307\n",
              "validation        751       575   1326\n",
              "Total            3864      3147   7011"
            ]
          },
          "metadata": {
            "tags": []
          },
          "execution_count": 5
        }
      ]
    },
    {
      "cell_type": "code",
      "metadata": {
        "id": "5Q8DB4-h7xTX",
        "colab_type": "code",
        "colab": {
          "base_uri": "https://localhost:8080/",
          "height": 487
        },
        "outputId": "76361855-66ec-41c3-f3cd-ead0d54ff732"
      },
      "source": [
        "model = Sequential(\n",
        "    [\n",
        "        # First convolutional layer\n",
        "        Conv2D(16,(3,3),activation = \"relu\",input_shape = IMAGE_SIZE + (1, )),\n",
        "        # First pooling layer\n",
        "        MaxPooling2D((2,2)),\n",
        "        # Second convolutional layer\n",
        "        Conv2D(32,(2,2),activation = \"relu\"),\n",
        "        # Second pooling layer\n",
        "        MaxPooling2D((2,2)),\n",
        "        # Flattening\n",
        "        Flatten(),\n",
        "        # Fully-connected layer\n",
        "        Dense(128, activation = \"relu\"),\n",
        "        Dropout(0.3),\n",
        "        Dense(64, activation = \"relu\"),\n",
        "        Dropout(0.3),        \n",
        "        Dense(1, activation = \"sigmoid\")\n",
        "    ]\n",
        ")\n",
        "\n",
        "model.summary()"
      ],
      "execution_count": null,
      "outputs": [
        {
          "output_type": "stream",
          "text": [
            "Model: \"sequential_1\"\n",
            "_________________________________________________________________\n",
            "Layer (type)                 Output Shape              Param #   \n",
            "=================================================================\n",
            "conv2d_2 (Conv2D)            (None, 298, 298, 16)      160       \n",
            "_________________________________________________________________\n",
            "max_pooling2d_2 (MaxPooling2 (None, 149, 149, 16)      0         \n",
            "_________________________________________________________________\n",
            "conv2d_3 (Conv2D)            (None, 148, 148, 32)      2080      \n",
            "_________________________________________________________________\n",
            "max_pooling2d_3 (MaxPooling2 (None, 74, 74, 32)        0         \n",
            "_________________________________________________________________\n",
            "flatten_1 (Flatten)          (None, 175232)            0         \n",
            "_________________________________________________________________\n",
            "dense_3 (Dense)              (None, 128)               22429824  \n",
            "_________________________________________________________________\n",
            "dropout (Dropout)            (None, 128)               0         \n",
            "_________________________________________________________________\n",
            "dense_4 (Dense)              (None, 64)                8256      \n",
            "_________________________________________________________________\n",
            "dropout_1 (Dropout)          (None, 64)                0         \n",
            "_________________________________________________________________\n",
            "dense_5 (Dense)              (None, 1)                 65        \n",
            "=================================================================\n",
            "Total params: 22,440,385\n",
            "Trainable params: 22,440,385\n",
            "Non-trainable params: 0\n",
            "_________________________________________________________________\n"
          ],
          "name": "stdout"
        }
      ]
    },
    {
      "cell_type": "code",
      "metadata": {
        "id": "BQgO5voL9F4u",
        "colab_type": "code",
        "colab": {}
      },
      "source": [
        "model.compile(optimizer = \"adam\",\n",
        "              loss = \"binary_crossentropy\",\n",
        "              metrics = [\"accuracy\"])"
      ],
      "execution_count": null,
      "outputs": []
    },
    {
      "cell_type": "code",
      "metadata": {
        "id": "WYX53fA99LwB",
        "colab_type": "code",
        "colab": {
          "base_uri": "https://localhost:8080/",
          "height": 558
        },
        "outputId": "61f9d088-6d20-491a-bec3-2f24c8e92f24"
      },
      "source": [
        "from tensorflow.python.client import device_lib\n",
        "print(device_lib.list_local_devices())"
      ],
      "execution_count": null,
      "outputs": [
        {
          "output_type": "stream",
          "text": [
            "[name: \"/device:CPU:0\"\n",
            "device_type: \"CPU\"\n",
            "memory_limit: 268435456\n",
            "locality {\n",
            "}\n",
            "incarnation: 14623460645698348213\n",
            ", name: \"/device:XLA_CPU:0\"\n",
            "device_type: \"XLA_CPU\"\n",
            "memory_limit: 17179869184\n",
            "locality {\n",
            "}\n",
            "incarnation: 8201943655443654051\n",
            "physical_device_desc: \"device: XLA_CPU device\"\n",
            ", name: \"/device:XLA_GPU:0\"\n",
            "device_type: \"XLA_GPU\"\n",
            "memory_limit: 17179869184\n",
            "locality {\n",
            "}\n",
            "incarnation: 8865760507592161390\n",
            "physical_device_desc: \"device: XLA_GPU device\"\n",
            ", name: \"/device:GPU:0\"\n",
            "device_type: \"GPU\"\n",
            "memory_limit: 14640891840\n",
            "locality {\n",
            "  bus_id: 1\n",
            "  links {\n",
            "  }\n",
            "}\n",
            "incarnation: 13813453178044529778\n",
            "physical_device_desc: \"device: 0, name: Tesla T4, pci bus id: 0000:00:04.0, compute capability: 7.5\"\n",
            "]\n"
          ],
          "name": "stdout"
        }
      ]
    },
    {
      "cell_type": "code",
      "metadata": {
        "id": "dbVoJd6S9RAY",
        "colab_type": "code",
        "colab": {
          "base_uri": "https://localhost:8080/",
          "height": 70
        },
        "outputId": "acd4e831-83c9-4217-bbbc-279aad057898"
      },
      "source": [
        "STEPS = 150\n",
        "\n",
        "checkpoint = ModelCheckpoint(\"cnn_casting_inspection_model.hdf5\",\n",
        "                             verbose = 1,\n",
        "                             save_best_only = True,\n",
        "                             monitor = \"val_loss\")\n",
        "\n",
        "model.fit_generator(generator = train_dataset,\n",
        "                    validation_data = validation_dataset,\n",
        "                    steps_per_epoch = STEPS,\n",
        "                    epochs = 25,\n",
        "                    validation_steps = STEPS,\n",
        "                    callbacks = [checkpoint],\n",
        "                    verbose = 1)"
      ],
      "execution_count": null,
      "outputs": [
        {
          "output_type": "stream",
          "text": [
            "Epoch 1/25\n",
            " 66/150 [============>.................] - ETA: 1:01:13 - loss: 1.1093 - accuracy: 0.5520"
          ],
          "name": "stdout"
        }
      ]
    },
    {
      "cell_type": "code",
      "metadata": {
        "id": "mULOCXyE9q70",
        "colab_type": "code",
        "colab": {
          "base_uri": "https://localhost:8080/",
          "height": 34
        },
        "outputId": "60605176-9666-4b1d-ac4b-3e0f985c026a"
      },
      "source": [
        "THRESHOLD = 0.5\n",
        "y_pred_class = (y_pred_prob >= THRESHOLD).reshape(-1,)\n",
        "y_true_class = test_dataset.classes[test_dataset.index_array]\n",
        "\n",
        "pd.DataFrame(\n",
        "    confusion_matrix(y_true_class, y_pred_class),\n",
        "    index = [[\"Actual\", \"Actual\"], [\"ok\", \"defect\"]],\n",
        "    columns = [[\"Predicted\", \"Predicted\"], [\"ok\", \"defect\"]],\n",
        ")"
      ],
      "execution_count": null,
      "outputs": [
        {
          "output_type": "stream",
          "text": [
            "Num GPUs Available:  1\n"
          ],
          "name": "stdout"
        }
      ]
    },
    {
      "cell_type": "code",
      "metadata": {
        "id": "AshytR-MDJuO",
        "colab_type": "code",
        "colab": {}
      },
      "source": [
        ""
      ],
      "execution_count": null,
      "outputs": []
    }
  ]
}